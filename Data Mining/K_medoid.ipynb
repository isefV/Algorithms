{
 "cells": [
  {
   "cell_type": "code",
   "execution_count": 1,
   "id": "e0034e73",
   "metadata": {},
   "outputs": [],
   "source": [
    "import numpy as np\n",
    "import pandas as pd"
   ]
  },
  {
   "cell_type": "markdown",
   "id": "c93ce58a",
   "metadata": {},
   "source": [
    "### Video Game slaes dataset"
   ]
  },
  {
   "cell_type": "code",
   "execution_count": null,
   "id": "1852115b",
   "metadata": {},
   "outputs": [],
   "source": [
    "vsg = pd.read_csv(\"vsales.csv\")\n",
    "vsg"
   ]
  },
  {
   "cell_type": "code",
   "execution_count": null,
   "id": "7deedd21",
   "metadata": {},
   "outputs": [],
   "source": [
    "vsg_cols = vsg[vsg.columns[:6]]\n",
    "vsg_cols"
   ]
  },
  {
   "cell_type": "code",
   "execution_count": null,
   "id": "224aa7d5",
   "metadata": {},
   "outputs": [],
   "source": [
    "vsg_num = vsg[vsg.columns[6:]]\n",
    "vsg_num"
   ]
  },
  {
   "cell_type": "markdown",
   "id": "48b9a4fa",
   "metadata": {},
   "source": [
    "### Example dataset"
   ]
  },
  {
   "cell_type": "code",
   "execution_count": 2,
   "id": "6b3bdce1",
   "metadata": {},
   "outputs": [],
   "source": [
    "oneD_arr = np.array([1,2,6,7,8,10,15,17,20]) "
   ]
  },
  {
   "cell_type": "code",
   "execution_count": 3,
   "id": "458236ff",
   "metadata": {},
   "outputs": [],
   "source": [
    "oneD_arr_s = pd.DataFrame({'nums':oneD_arr})"
   ]
  },
  {
   "cell_type": "code",
   "execution_count": null,
   "id": "86d5bcd1",
   "metadata": {},
   "outputs": [],
   "source": []
  },
  {
   "cell_type": "markdown",
   "id": "525ac237",
   "metadata": {},
   "source": [
    "### K-Medoid"
   ]
  },
  {
   "cell_type": "code",
   "execution_count": 4,
   "id": "fa9c2737",
   "metadata": {},
   "outputs": [],
   "source": [
    "dataset = oneD_arr_s.copy()\n",
    "\n",
    "cols = []"
   ]
  },
  {
   "cell_type": "code",
   "execution_count": 5,
   "id": "a60bb014",
   "metadata": {},
   "outputs": [
    {
     "data": {
      "text/plain": [
       "array([4, 5, 7])"
      ]
     },
     "execution_count": 5,
     "metadata": {},
     "output_type": "execute_result"
    }
   ],
   "source": [
    "k = 3\n",
    "\n",
    "centers_indexes = np.random.randint(dataset.index[0],dataset.index[-1] + 1,k)\n",
    "centers_indexes.sort()\n",
    "centers_indexes"
   ]
  },
  {
   "cell_type": "code",
   "execution_count": 6,
   "id": "bcbc2d59",
   "metadata": {},
   "outputs": [],
   "source": [
    "# distance row with df\n",
    "# ret : np array \n",
    "def distances(cset,item):\n",
    "    dist = np.array([])\n",
    "    for items in cset.index:\n",
    "        dist = np.append(dist,np.linalg.norm(cset.loc[items] - item))\n",
    "    return dist"
   ]
  },
  {
   "cell_type": "code",
   "execution_count": 7,
   "id": "bef7f381",
   "metadata": {},
   "outputs": [],
   "source": [
    "# distance row with row\n",
    "# ret : np array\n",
    "def distance(point_1,point_2):\n",
    "    return np.linalg.norm(point_1 - point_2)"
   ]
  },
  {
   "cell_type": "code",
   "execution_count": 8,
   "id": "5e242783",
   "metadata": {},
   "outputs": [],
   "source": [
    "# check that number in list exist\n",
    "# ret : index\n",
    "def in_group(num,lists):\n",
    "    for i,n in enumerate(lists):\n",
    "        if num == n:\n",
    "            return i"
   ]
  },
  {
   "cell_type": "code",
   "execution_count": 9,
   "id": "a5f593ac",
   "metadata": {},
   "outputs": [],
   "source": [
    "def backup(base):\n",
    "    echo = []\n",
    "    for df in base:\n",
    "        echo.append(df.copy())\n",
    "    return echo"
   ]
  },
  {
   "cell_type": "code",
   "execution_count": 10,
   "id": "b4153680",
   "metadata": {},
   "outputs": [],
   "source": [
    "def join_with_cols(csets,cols):\n",
    "    for df in csets:\n",
    "        for col in cols:\n",
    "            temp = []\n",
    "            for row in df.index:\n",
    "                temp.append(cols.loc[row][col])\n",
    "            df[col] = temp"
   ]
  },
  {
   "cell_type": "code",
   "execution_count": 11,
   "id": "8822152f",
   "metadata": {},
   "outputs": [],
   "source": [
    "def display(csets):\n",
    "    for df in csets:\n",
    "        print(df,\"\\n\")\n",
    "    print(\"\\nEF : \",stable_ef,\"\\n\")"
   ]
  },
  {
   "cell_type": "code",
   "execution_count": 12,
   "id": "ddf4f385",
   "metadata": {},
   "outputs": [],
   "source": [
    "# calculate distance center item with other item\n",
    "# ret : list of distance\n",
    "\n",
    "def distnc_center(dtset,cent):\n",
    "    distnc = np.ndarray((0,dtset.shape[0]))\n",
    "    dst = dtset.copy()\n",
    "    for indx in cent:\n",
    "        if 'groups' in dtset.columns:\n",
    "            dst = dtset.drop('groups',axis=1)\n",
    "        temp = np.array(distances(dst,dst.iloc[indx]),ndmin=2)\n",
    "        distnc = np.append(distnc,temp,axis=0)\n",
    "    return distnc"
   ]
  },
  {
   "cell_type": "code",
   "execution_count": null,
   "id": "534b0d0e",
   "metadata": {},
   "outputs": [],
   "source": [
    "def distnc_center_2(dtset,cent,dis):\n",
    "    dst = dtset.drop('groups',axis=1)\n",
    "    for row in dtset:\n",
    "        rw = row.drop('groups',axis=1)\n",
    "        temp = np.array(distances(dst,rw))\n",
    "        \n",
    "        for gid in dtset[dtset['groups'] == row['groups']].index:\n",
    "            "
   ]
  },
  {
   "cell_type": "code",
   "execution_count": 13,
   "id": "68ad9dc8",
   "metadata": {},
   "outputs": [],
   "source": [
    "# set group index to items\n",
    "\n",
    "def grouping(dtset,distnc):\n",
    "    C_group = np.array([])\n",
    "    tc = 0\n",
    "    big_dif = -1\n",
    "    big_dif_i = -1\n",
    "    \n",
    "    for cols_indx in dtset.index:\n",
    "        min_col = np.min(distnc[:,cols_indx])\n",
    "        if big_dif == -1 or big_dif < min_col:\n",
    "            big_dif = min_col\n",
    "            big_dif_i = cols_indx\n",
    "        tc += min_col\n",
    "        C_group = np.append(C_group,in_group(min_col,distnc[:,cols_indx]))\n",
    "        \n",
    "    dtset['groups'] = C_group\n",
    "    return dtset,tc,[big_dif_i,big_dif]"
   ]
  },
  {
   "cell_type": "code",
   "execution_count": null,
   "id": "e830550e",
   "metadata": {},
   "outputs": [],
   "source": [
    "def move_item_group(dtset,list_d,cent):\n",
    "    for indx,item in enumerate(cent):\n",
    "        if distance(dtset.iloc[list_d[0]],item) < list_d[1]:\n",
    "            dtset['groups'][list_d[0]] = indx\n",
    "            return indx "
   ]
  },
  {
   "cell_type": "code",
   "execution_count": null,
   "id": "16f27728",
   "metadata": {},
   "outputs": [],
   "source": [
    "def update(dtset,cent,which):\n",
    "    if which == None:\n",
    "        return cent\n",
    "\n",
    "    dst = dtset.copy()\n",
    "    dst = dst[dst['groups'] == which]\n",
    "    dst = dst.drop('groups',axis=1)\n",
    "    temp = np.ndarray((0,dst.shape[0]))\n",
    "    \n",
    "    for row in dst.index:\n",
    "        temp = np.append(temp,np.array([distances(dst,dst.loc[row])]),axis=0)\n",
    "    \n",
    "    min_cen = -1\n",
    "    min_cen_i = -1\n",
    "    for row in dst.index:\n",
    "        if min_cen == -1 or min_cen > np.sum(temp[row]):\n",
    "            min_cen = np.sum(temp[row])\n",
    "            min_cen_i = row\n",
    "            \n",
    "    cent[which] = min_cen_i\n",
    "    return cent"
   ]
  },
  {
   "cell_type": "code",
   "execution_count": null,
   "id": "33b7f8bd",
   "metadata": {},
   "outputs": [],
   "source": [
    "tc = -1\n",
    "stable_tc = -1\n",
    "backup_centers = centers_indexes.copy()\n",
    "backup_dataset = dataset.copy()"
   ]
  },
  {
   "cell_type": "code",
   "execution_count": null,
   "id": "8d956d87",
   "metadata": {},
   "outputs": [],
   "source": [
    "dataset = backup_dataset.copy()\n",
    "centers_indexes= backup_centers.copy()"
   ]
  },
  {
   "cell_type": "code",
   "execution_count": null,
   "id": "99676b2c",
   "metadata": {},
   "outputs": [],
   "source": [
    "print(dataset)\n",
    "print(centers_indexes)"
   ]
  },
  {
   "cell_type": "code",
   "execution_count": null,
   "id": "bac887c7",
   "metadata": {
    "scrolled": true
   },
   "outputs": [],
   "source": [
    "#print(dataset,\"\\n\\n\")\n",
    "\n",
    "step = 10\n",
    "while step:\n",
    "    dis = distnc_center(dataset,centers_indexes)\n",
    "    \n",
    "    if 'groups' in dtset.columns:\n",
    "         distnc_center_2()\n",
    "    \n",
    "    dataset,tc,move_item = grouping(dataset,dis)\n",
    "    \n",
    "    if stable_tc == -1 or tc < stable_tc:\n",
    "        stable_tc = tc\n",
    "        backup_centers = centers_indexes.copy()\n",
    "        backup_dataset = dataset.copy()\n",
    "    \n",
    "    print(\"distnc :\",dis,\"\\nmove:\",move_item)\n",
    "    \n",
    "    which = move_item_group(dataset,move_item,centers_indexes)\n",
    "    print(\"tc :\",tc)\n",
    "    centers_indexes = update(dataset,centers_indexes,which)\n",
    "    \n",
    "\n",
    "    step-=1"
   ]
  },
  {
   "cell_type": "code",
   "execution_count": null,
   "id": "0b8cd0bb",
   "metadata": {},
   "outputs": [],
   "source": [
    "stable_tc"
   ]
  },
  {
   "cell_type": "code",
   "execution_count": null,
   "id": "625432e5",
   "metadata": {},
   "outputs": [],
   "source": [
    "join_with_cols(backup_dataset,cols)"
   ]
  },
  {
   "cell_type": "code",
   "execution_count": null,
   "id": "c0cec923",
   "metadata": {},
   "outputs": [],
   "source": [
    "display(backup_dataset)"
   ]
  },
  {
   "cell_type": "code",
   "execution_count": null,
   "id": "8f9477c3",
   "metadata": {},
   "outputs": [],
   "source": []
  },
  {
   "cell_type": "markdown",
   "id": "4ed40911",
   "metadata": {},
   "source": [
    "### Method 2"
   ]
  },
  {
   "cell_type": "code",
   "execution_count": null,
   "id": "6506c1ec",
   "metadata": {},
   "outputs": [],
   "source": [
    "def manhattan(p1, p2):\n",
    "    return np.abs((p1[0]-p2[0])) + np.abs((p1[1]-p2[1]))"
   ]
  },
  {
   "cell_type": "code",
   "execution_count": null,
   "id": "e1a53c49",
   "metadata": {},
   "outputs": [],
   "source": [
    "def get_costs(data, medoids):\n",
    "    clusters = {i:[] for i in range(len(medoids))}\n",
    "    cst = 0\n",
    "    for d in data:\n",
    "        dst = np.array([manhattan(d, md) for md in medoids])\n",
    "        c = dst.argmin()\n",
    "        clusters[c].append(d)\n",
    "        cst+=dst.min()\n",
    "\n",
    "    clusters = {k:np.array(v) for k,v in clusters.items()}\n",
    "    return clusters, cst"
   ]
  },
  {
   "cell_type": "code",
   "execution_count": null,
   "id": "3f6b0e79",
   "metadata": {},
   "outputs": [],
   "source": [
    "\n",
    "def KMedoids(data, k, iters = 100):\n",
    "    medoids = np.array([data[i] for i in range(k)])\n",
    "    samples,_ = data.shape\n",
    "\n",
    "    clusters, cost = get_costs(data, medoids)\n",
    "    count = 0\n",
    "\n",
    "    colors =  np.array(np.random.randint(0, 255, size =(k, 4)))/255\n",
    "    colors[:,3]=1\n",
    "\n",
    "    plt.title(f\"Step : 0\")\n",
    "    [plt.scatter(clusters[t][:, 0], clusters[t][:, 1], marker=\"*\", s=100,\n",
    "                                    color = colors[t]) for t in range(k)]\n",
    "    plt.scatter(medoids[:, 0], medoids[:, 1], s=200, color=colors)\n",
    "    plt.show()\n",
    "\n",
    "    while True:\n",
    "        swap = False\n",
    "        for i in range(samples):\n",
    "            if not i in medoids:\n",
    "                for j in range(k):\n",
    "                    tmp_meds = medoids.copy()\n",
    "                    tmp_meds[j] = i\n",
    "                    clusters_, cost_ = get_costs(data, tmp_meds)\n",
    "\n",
    "                    if cost_<cost:\n",
    "                        medoids = tmp_meds\n",
    "                        cost = cost_\n",
    "                        swap = True\n",
    "                        clusters = clusters_\n",
    "                        print(f\"Medoids Changed to: {medoids}.\")\n",
    "                        plt.title(f\"Step : {count+1}\")  \n",
    "                        [plt.scatter(clusters[t][:, 0], clusters[t][:, 1], marker=\"*\", s=100,\n",
    "                                    color = colors[t]) for t in range(k)]\n",
    "                        plt.scatter(medoids[:, 0], medoids[:, 1], s=200, color=colors)\n",
    "                        plt.show()\n",
    "        count+=1\n",
    "\n",
    "        if count>=iters:\n",
    "            print(\"End of the iterations.\")\n",
    "            break\n",
    "        if not swap:\n",
    "            print(\"No changes.\")\n",
    "            break"
   ]
  },
  {
   "cell_type": "code",
   "execution_count": null,
   "id": "d281df36",
   "metadata": {},
   "outputs": [],
   "source": [
    "class KMedoidsClass:\n",
    "    def __init__(self,data,k,iters):\n",
    "        self.data= data\n",
    "        self.k = k\n",
    "        self.iters = iters\n",
    "        self.medoids = np.array([data[i] for i in range(self.k)])\n",
    "        self.colors = np.array(np.random.randint(0, 255, size =(self.k, 4)))/255\n",
    "        self.colors[:,3]=1"
   ]
  },
  {
   "cell_type": "code",
   "execution_count": null,
   "id": "b83c13ed",
   "metadata": {},
   "outputs": [],
   "source": [
    "KMedoids(dataset,2)"
   ]
  },
  {
   "cell_type": "code",
   "execution_count": null,
   "id": "7625fbcf",
   "metadata": {},
   "outputs": [],
   "source": []
  },
  {
   "cell_type": "code",
   "execution_count": null,
   "id": "6bd327d3",
   "metadata": {},
   "outputs": [],
   "source": []
  },
  {
   "cell_type": "markdown",
   "id": "23e0b52a",
   "metadata": {},
   "source": [
    "### K-Medoid On Internet"
   ]
  },
  {
   "cell_type": "code",
   "execution_count": null,
   "id": "f2cccba4",
   "metadata": {},
   "outputs": [],
   "source": [
    "#!pip install scikit-learn-extra\n",
    "#!pip install sklearn_extra\n",
    "#!python -m pip install sklearn_extra\n",
    "#!pip install pyclustering\n",
    "#!pip install kmedoids"
   ]
  },
  {
   "cell_type": "code",
   "execution_count": null,
   "id": "1239139d",
   "metadata": {},
   "outputs": [],
   "source": [
    "#from sklearn_extra.cluster import KMedoids\n",
    "#from pyclustering.cluster.kmedoids import kmedoids\n",
    "\n",
    "# import kkmedoids"
   ]
  },
  {
   "cell_type": "code",
   "execution_count": null,
   "id": "d2f575dc",
   "metadata": {},
   "outputs": [],
   "source": [
    "#kmedoids = KMedoids(n_clusters=2, random_state=0).fit(X)"
   ]
  }
 ],
 "metadata": {
  "kernelspec": {
   "display_name": "Python 3 (ipykernel)",
   "language": "python",
   "name": "python3"
  },
  "language_info": {
   "codemirror_mode": {
    "name": "ipython",
    "version": 3
   },
   "file_extension": ".py",
   "mimetype": "text/x-python",
   "name": "python",
   "nbconvert_exporter": "python",
   "pygments_lexer": "ipython3",
   "version": "3.10.9"
  }
 },
 "nbformat": 4,
 "nbformat_minor": 5
}
