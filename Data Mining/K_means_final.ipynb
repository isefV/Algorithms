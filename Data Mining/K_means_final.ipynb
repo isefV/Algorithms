{
 "cells": [
  {
   "cell_type": "markdown",
   "id": "d00b4377",
   "metadata": {},
   "source": [
    "### Libraries"
   ]
  },
  {
   "cell_type": "code",
   "execution_count": 1,
   "id": "966d6379",
   "metadata": {},
   "outputs": [],
   "source": [
    "import warnings\n",
    "warnings.simplefilter(action='ignore', category=FutureWarning)\n",
    "\n",
    "import numpy as np\n",
    "import pandas as pd\n",
    "import matplotlib.pyplot as plt\n",
    "\n",
    "import random\n",
    "\n",
    "from sklearn.preprocessing import MinMaxScaler"
   ]
  },
  {
   "cell_type": "code",
   "execution_count": 2,
   "id": "db8407bb",
   "metadata": {},
   "outputs": [],
   "source": [
    "scaler = MinMaxScaler()"
   ]
  },
  {
   "cell_type": "markdown",
   "id": "7ded06c9",
   "metadata": {},
   "source": [
    "## DataSets"
   ]
  },
  {
   "cell_type": "markdown",
   "id": "00802b9d",
   "metadata": {},
   "source": [
    "### Real Dataset"
   ]
  },
  {
   "cell_type": "code",
   "execution_count": 71,
   "id": "bcfe5201",
   "metadata": {},
   "outputs": [
    {
     "name": "stdout",
     "output_type": "stream",
     "text": [
      "185\n"
     ]
    },
    {
     "data": {
      "text/html": [
       "<div>\n",
       "<style scoped>\n",
       "    .dataframe tbody tr th:only-of-type {\n",
       "        vertical-align: middle;\n",
       "    }\n",
       "\n",
       "    .dataframe tbody tr th {\n",
       "        vertical-align: top;\n",
       "    }\n",
       "\n",
       "    .dataframe thead th {\n",
       "        text-align: right;\n",
       "    }\n",
       "</style>\n",
       "<table border=\"1\" class=\"dataframe\">\n",
       "  <thead>\n",
       "    <tr style=\"text-align: right;\">\n",
       "      <th></th>\n",
       "      <th>Rank</th>\n",
       "      <th>Name</th>\n",
       "      <th>Platform</th>\n",
       "      <th>Year</th>\n",
       "      <th>Genre</th>\n",
       "      <th>Publisher</th>\n",
       "      <th>NA_Sales</th>\n",
       "      <th>EU_Sales</th>\n",
       "      <th>JP_Sales</th>\n",
       "      <th>Other_Sales</th>\n",
       "      <th>Global_Sales</th>\n",
       "    </tr>\n",
       "  </thead>\n",
       "  <tbody>\n",
       "    <tr>\n",
       "      <th>1</th>\n",
       "      <td>545</td>\n",
       "      <td>Missile Command</td>\n",
       "      <td>2600</td>\n",
       "      <td>1980</td>\n",
       "      <td>Shooter</td>\n",
       "      <td>Atari</td>\n",
       "      <td>2.56</td>\n",
       "      <td>0.17</td>\n",
       "      <td>0.00</td>\n",
       "      <td>0.03</td>\n",
       "      <td>2.76</td>\n",
       "    </tr>\n",
       "    <tr>\n",
       "      <th>4</th>\n",
       "      <td>2671</td>\n",
       "      <td>Boxing</td>\n",
       "      <td>2600</td>\n",
       "      <td>1980</td>\n",
       "      <td>Fighting</td>\n",
       "      <td>Activision</td>\n",
       "      <td>0.72</td>\n",
       "      <td>0.04</td>\n",
       "      <td>0.00</td>\n",
       "      <td>0.01</td>\n",
       "      <td>0.77</td>\n",
       "    </tr>\n",
       "    <tr>\n",
       "      <th>1</th>\n",
       "      <td>545</td>\n",
       "      <td>Missile Command</td>\n",
       "      <td>2600</td>\n",
       "      <td>1980</td>\n",
       "      <td>Shooter</td>\n",
       "      <td>Atari</td>\n",
       "      <td>2.56</td>\n",
       "      <td>0.17</td>\n",
       "      <td>0.00</td>\n",
       "      <td>0.03</td>\n",
       "      <td>2.76</td>\n",
       "    </tr>\n",
       "    <tr>\n",
       "      <th>4</th>\n",
       "      <td>2671</td>\n",
       "      <td>Boxing</td>\n",
       "      <td>2600</td>\n",
       "      <td>1980</td>\n",
       "      <td>Fighting</td>\n",
       "      <td>Activision</td>\n",
       "      <td>0.72</td>\n",
       "      <td>0.04</td>\n",
       "      <td>0.00</td>\n",
       "      <td>0.01</td>\n",
       "      <td>0.77</td>\n",
       "    </tr>\n",
       "    <tr>\n",
       "      <th>5</th>\n",
       "      <td>4027</td>\n",
       "      <td>Ice Hockey</td>\n",
       "      <td>2600</td>\n",
       "      <td>1980</td>\n",
       "      <td>Sports</td>\n",
       "      <td>Activision</td>\n",
       "      <td>0.46</td>\n",
       "      <td>0.03</td>\n",
       "      <td>0.00</td>\n",
       "      <td>0.01</td>\n",
       "      <td>0.49</td>\n",
       "    </tr>\n",
       "    <tr>\n",
       "      <th>...</th>\n",
       "      <td>...</td>\n",
       "      <td>...</td>\n",
       "      <td>...</td>\n",
       "      <td>...</td>\n",
       "      <td>...</td>\n",
       "      <td>...</td>\n",
       "      <td>...</td>\n",
       "      <td>...</td>\n",
       "      <td>...</td>\n",
       "      <td>...</td>\n",
       "      <td>...</td>\n",
       "    </tr>\n",
       "    <tr>\n",
       "      <th>16145</th>\n",
       "      <td>12837</td>\n",
       "      <td>Kamen Rider: Battride War Genesis</td>\n",
       "      <td>PS4</td>\n",
       "      <td>2016</td>\n",
       "      <td>Action</td>\n",
       "      <td>Namco Bandai Games</td>\n",
       "      <td>0.00</td>\n",
       "      <td>0.00</td>\n",
       "      <td>0.05</td>\n",
       "      <td>0.00</td>\n",
       "      <td>0.05</td>\n",
       "    </tr>\n",
       "    <tr>\n",
       "      <th>16311</th>\n",
       "      <td>16434</td>\n",
       "      <td>Kamigami no Asobi InFinite</td>\n",
       "      <td>PSV</td>\n",
       "      <td>2016</td>\n",
       "      <td>Adventure</td>\n",
       "      <td>Broccoli</td>\n",
       "      <td>0.00</td>\n",
       "      <td>0.00</td>\n",
       "      <td>0.01</td>\n",
       "      <td>0.00</td>\n",
       "      <td>0.01</td>\n",
       "    </tr>\n",
       "    <tr>\n",
       "      <th>16084</th>\n",
       "      <td>9813</td>\n",
       "      <td>Gundam Breaker 3</td>\n",
       "      <td>PSV</td>\n",
       "      <td>2016</td>\n",
       "      <td>Action</td>\n",
       "      <td>Namco Bandai Games</td>\n",
       "      <td>0.00</td>\n",
       "      <td>0.00</td>\n",
       "      <td>0.12</td>\n",
       "      <td>0.00</td>\n",
       "      <td>0.12</td>\n",
       "    </tr>\n",
       "    <tr>\n",
       "      <th>16278</th>\n",
       "      <td>15947</td>\n",
       "      <td>Storm Lover 2nd V</td>\n",
       "      <td>PSV</td>\n",
       "      <td>2016</td>\n",
       "      <td>Adventure</td>\n",
       "      <td>D3Publisher</td>\n",
       "      <td>0.00</td>\n",
       "      <td>0.00</td>\n",
       "      <td>0.02</td>\n",
       "      <td>0.00</td>\n",
       "      <td>0.02</td>\n",
       "    </tr>\n",
       "    <tr>\n",
       "      <th>16215</th>\n",
       "      <td>14721</td>\n",
       "      <td>Aegis of Earth: Protonovus Assault</td>\n",
       "      <td>PS3</td>\n",
       "      <td>2016</td>\n",
       "      <td>Action</td>\n",
       "      <td>PQube</td>\n",
       "      <td>0.01</td>\n",
       "      <td>0.01</td>\n",
       "      <td>0.00</td>\n",
       "      <td>0.00</td>\n",
       "      <td>0.03</td>\n",
       "    </tr>\n",
       "  </tbody>\n",
       "</table>\n",
       "<p>185 rows × 11 columns</p>\n",
       "</div>"
      ],
      "text/plain": [
       "        Rank                                Name Platform  Year      Genre  \\\n",
       "1        545                     Missile Command     2600  1980    Shooter   \n",
       "4       2671                              Boxing     2600  1980   Fighting   \n",
       "1        545                     Missile Command     2600  1980    Shooter   \n",
       "4       2671                              Boxing     2600  1980   Fighting   \n",
       "5       4027                          Ice Hockey     2600  1980     Sports   \n",
       "...      ...                                 ...      ...   ...        ...   \n",
       "16145  12837   Kamen Rider: Battride War Genesis      PS4  2016     Action   \n",
       "16311  16434          Kamigami no Asobi InFinite      PSV  2016  Adventure   \n",
       "16084   9813                    Gundam Breaker 3      PSV  2016     Action   \n",
       "16278  15947                   Storm Lover 2nd V      PSV  2016  Adventure   \n",
       "16215  14721  Aegis of Earth: Protonovus Assault      PS3  2016     Action   \n",
       "\n",
       "                Publisher  NA_Sales  EU_Sales  JP_Sales  Other_Sales  \\\n",
       "1                   Atari      2.56      0.17      0.00         0.03   \n",
       "4              Activision      0.72      0.04      0.00         0.01   \n",
       "1                   Atari      2.56      0.17      0.00         0.03   \n",
       "4              Activision      0.72      0.04      0.00         0.01   \n",
       "5              Activision      0.46      0.03      0.00         0.01   \n",
       "...                   ...       ...       ...       ...          ...   \n",
       "16145  Namco Bandai Games      0.00      0.00      0.05         0.00   \n",
       "16311            Broccoli      0.00      0.00      0.01         0.00   \n",
       "16084  Namco Bandai Games      0.00      0.00      0.12         0.00   \n",
       "16278         D3Publisher      0.00      0.00      0.02         0.00   \n",
       "16215               PQube      0.01      0.01      0.00         0.00   \n",
       "\n",
       "       Global_Sales  \n",
       "1              2.76  \n",
       "4              0.77  \n",
       "1              2.76  \n",
       "4              0.77  \n",
       "5              0.49  \n",
       "...             ...  \n",
       "16145          0.05  \n",
       "16311          0.01  \n",
       "16084          0.12  \n",
       "16278          0.02  \n",
       "16215          0.03  \n",
       "\n",
       "[185 rows x 11 columns]"
      ]
     },
     "execution_count": 71,
     "metadata": {},
     "output_type": "execute_result"
    }
   ],
   "source": [
    "vsg = pd.read_csv(\"vsales.csv\")\n",
    "#vsg = vsg[:1500]\n",
    "vsg_num = pd.DataFrame([])\n",
    "for items in vsg['Year'].unique():\n",
    "    new_df = vsg[vsg['Year']==items]\n",
    "    new_df = new_df.sample(n=5,replace=True)\n",
    "    vsg_num = pd.concat([vsg_num,new_df])\n",
    "    \n",
    "print(len(vsg_num))\n",
    "vsg_num"
   ]
  },
  {
   "cell_type": "code",
   "execution_count": 72,
   "id": "87f406a0",
   "metadata": {},
   "outputs": [],
   "source": [
    "vsg_num = vsg_num.reset_index()"
   ]
  },
  {
   "cell_type": "code",
   "execution_count": null,
   "id": "1c7580ce",
   "metadata": {},
   "outputs": [],
   "source": [
    "vsg_cols = vsg[vsg.columns[:6]]\n",
    "vsg_cols"
   ]
  },
  {
   "cell_type": "code",
   "execution_count": null,
   "id": "bc016cd6",
   "metadata": {},
   "outputs": [],
   "source": [
    "vsg_num = vsg[vsg.columns[6:]]\n",
    "vsg_num"
   ]
  },
  {
   "cell_type": "code",
   "execution_count": 73,
   "id": "59a6cb46",
   "metadata": {},
   "outputs": [
    {
     "data": {
      "text/html": [
       "<div>\n",
       "<style scoped>\n",
       "    .dataframe tbody tr th:only-of-type {\n",
       "        vertical-align: middle;\n",
       "    }\n",
       "\n",
       "    .dataframe tbody tr th {\n",
       "        vertical-align: top;\n",
       "    }\n",
       "\n",
       "    .dataframe thead th {\n",
       "        text-align: right;\n",
       "    }\n",
       "</style>\n",
       "<table border=\"1\" class=\"dataframe\">\n",
       "  <thead>\n",
       "    <tr style=\"text-align: right;\">\n",
       "      <th></th>\n",
       "      <th>Year</th>\n",
       "      <th>EU_Sales</th>\n",
       "    </tr>\n",
       "  </thead>\n",
       "  <tbody>\n",
       "    <tr>\n",
       "      <th>0</th>\n",
       "      <td>1980</td>\n",
       "      <td>0.17</td>\n",
       "    </tr>\n",
       "    <tr>\n",
       "      <th>1</th>\n",
       "      <td>1980</td>\n",
       "      <td>0.04</td>\n",
       "    </tr>\n",
       "    <tr>\n",
       "      <th>2</th>\n",
       "      <td>1980</td>\n",
       "      <td>0.17</td>\n",
       "    </tr>\n",
       "    <tr>\n",
       "      <th>3</th>\n",
       "      <td>1980</td>\n",
       "      <td>0.04</td>\n",
       "    </tr>\n",
       "    <tr>\n",
       "      <th>4</th>\n",
       "      <td>1980</td>\n",
       "      <td>0.03</td>\n",
       "    </tr>\n",
       "    <tr>\n",
       "      <th>...</th>\n",
       "      <td>...</td>\n",
       "      <td>...</td>\n",
       "    </tr>\n",
       "    <tr>\n",
       "      <th>180</th>\n",
       "      <td>2016</td>\n",
       "      <td>0.00</td>\n",
       "    </tr>\n",
       "    <tr>\n",
       "      <th>181</th>\n",
       "      <td>2016</td>\n",
       "      <td>0.00</td>\n",
       "    </tr>\n",
       "    <tr>\n",
       "      <th>182</th>\n",
       "      <td>2016</td>\n",
       "      <td>0.00</td>\n",
       "    </tr>\n",
       "    <tr>\n",
       "      <th>183</th>\n",
       "      <td>2016</td>\n",
       "      <td>0.00</td>\n",
       "    </tr>\n",
       "    <tr>\n",
       "      <th>184</th>\n",
       "      <td>2016</td>\n",
       "      <td>0.01</td>\n",
       "    </tr>\n",
       "  </tbody>\n",
       "</table>\n",
       "<p>185 rows × 2 columns</p>\n",
       "</div>"
      ],
      "text/plain": [
       "     Year  EU_Sales\n",
       "0    1980      0.17\n",
       "1    1980      0.04\n",
       "2    1980      0.17\n",
       "3    1980      0.04\n",
       "4    1980      0.03\n",
       "..    ...       ...\n",
       "180  2016      0.00\n",
       "181  2016      0.00\n",
       "182  2016      0.00\n",
       "183  2016      0.00\n",
       "184  2016      0.01\n",
       "\n",
       "[185 rows x 2 columns]"
      ]
     },
     "execution_count": 73,
     "metadata": {},
     "output_type": "execute_result"
    }
   ],
   "source": [
    "vsg_num = vsg_num[['Year','EU_Sales']]\n",
    "vsg_num"
   ]
  },
  {
   "cell_type": "code",
   "execution_count": 74,
   "id": "9cdf7073",
   "metadata": {},
   "outputs": [
    {
     "name": "stdout",
     "output_type": "stream",
     "text": [
      "<class 'pandas.core.frame.DataFrame'>\n",
      "RangeIndex: 185 entries, 0 to 184\n",
      "Data columns (total 2 columns):\n",
      " #   Column    Non-Null Count  Dtype  \n",
      "---  ------    --------------  -----  \n",
      " 0   Year      185 non-null    int64  \n",
      " 1   EU_Sales  185 non-null    float64\n",
      "dtypes: float64(1), int64(1)\n",
      "memory usage: 3.0 KB\n"
     ]
    },
    {
     "data": {
      "text/html": [
       "<div>\n",
       "<style scoped>\n",
       "    .dataframe tbody tr th:only-of-type {\n",
       "        vertical-align: middle;\n",
       "    }\n",
       "\n",
       "    .dataframe tbody tr th {\n",
       "        vertical-align: top;\n",
       "    }\n",
       "\n",
       "    .dataframe thead th {\n",
       "        text-align: right;\n",
       "    }\n",
       "</style>\n",
       "<table border=\"1\" class=\"dataframe\">\n",
       "  <thead>\n",
       "    <tr style=\"text-align: right;\">\n",
       "      <th></th>\n",
       "      <th>Year</th>\n",
       "      <th>EU_Sales</th>\n",
       "    </tr>\n",
       "  </thead>\n",
       "  <tbody>\n",
       "    <tr>\n",
       "      <th>count</th>\n",
       "      <td>185.000000</td>\n",
       "      <td>185.000000</td>\n",
       "    </tr>\n",
       "    <tr>\n",
       "      <th>mean</th>\n",
       "      <td>1998.000000</td>\n",
       "      <td>0.122324</td>\n",
       "    </tr>\n",
       "    <tr>\n",
       "      <th>std</th>\n",
       "      <td>10.706053</td>\n",
       "      <td>0.255463</td>\n",
       "    </tr>\n",
       "    <tr>\n",
       "      <th>min</th>\n",
       "      <td>1980.000000</td>\n",
       "      <td>0.000000</td>\n",
       "    </tr>\n",
       "    <tr>\n",
       "      <th>25%</th>\n",
       "      <td>1989.000000</td>\n",
       "      <td>0.000000</td>\n",
       "    </tr>\n",
       "    <tr>\n",
       "      <th>50%</th>\n",
       "      <td>1998.000000</td>\n",
       "      <td>0.020000</td>\n",
       "    </tr>\n",
       "    <tr>\n",
       "      <th>75%</th>\n",
       "      <td>2007.000000</td>\n",
       "      <td>0.100000</td>\n",
       "    </tr>\n",
       "    <tr>\n",
       "      <th>max</th>\n",
       "      <td>2016.000000</td>\n",
       "      <td>2.010000</td>\n",
       "    </tr>\n",
       "  </tbody>\n",
       "</table>\n",
       "</div>"
      ],
      "text/plain": [
       "              Year    EU_Sales\n",
       "count   185.000000  185.000000\n",
       "mean   1998.000000    0.122324\n",
       "std      10.706053    0.255463\n",
       "min    1980.000000    0.000000\n",
       "25%    1989.000000    0.000000\n",
       "50%    1998.000000    0.020000\n",
       "75%    2007.000000    0.100000\n",
       "max    2016.000000    2.010000"
      ]
     },
     "execution_count": 74,
     "metadata": {},
     "output_type": "execute_result"
    }
   ],
   "source": [
    "vsg_num.info()\n",
    "\n",
    "vsg_num.describe()"
   ]
  },
  {
   "cell_type": "code",
   "execution_count": 75,
   "id": "4da6757d",
   "metadata": {},
   "outputs": [
    {
     "data": {
      "text/html": [
       "<style>#sk-container-id-2 {color: black;background-color: white;}#sk-container-id-2 pre{padding: 0;}#sk-container-id-2 div.sk-toggleable {background-color: white;}#sk-container-id-2 label.sk-toggleable__label {cursor: pointer;display: block;width: 100%;margin-bottom: 0;padding: 0.3em;box-sizing: border-box;text-align: center;}#sk-container-id-2 label.sk-toggleable__label-arrow:before {content: \"▸\";float: left;margin-right: 0.25em;color: #696969;}#sk-container-id-2 label.sk-toggleable__label-arrow:hover:before {color: black;}#sk-container-id-2 div.sk-estimator:hover label.sk-toggleable__label-arrow:before {color: black;}#sk-container-id-2 div.sk-toggleable__content {max-height: 0;max-width: 0;overflow: hidden;text-align: left;background-color: #f0f8ff;}#sk-container-id-2 div.sk-toggleable__content pre {margin: 0.2em;color: black;border-radius: 0.25em;background-color: #f0f8ff;}#sk-container-id-2 input.sk-toggleable__control:checked~div.sk-toggleable__content {max-height: 200px;max-width: 100%;overflow: auto;}#sk-container-id-2 input.sk-toggleable__control:checked~label.sk-toggleable__label-arrow:before {content: \"▾\";}#sk-container-id-2 div.sk-estimator input.sk-toggleable__control:checked~label.sk-toggleable__label {background-color: #d4ebff;}#sk-container-id-2 div.sk-label input.sk-toggleable__control:checked~label.sk-toggleable__label {background-color: #d4ebff;}#sk-container-id-2 input.sk-hidden--visually {border: 0;clip: rect(1px 1px 1px 1px);clip: rect(1px, 1px, 1px, 1px);height: 1px;margin: -1px;overflow: hidden;padding: 0;position: absolute;width: 1px;}#sk-container-id-2 div.sk-estimator {font-family: monospace;background-color: #f0f8ff;border: 1px dotted black;border-radius: 0.25em;box-sizing: border-box;margin-bottom: 0.5em;}#sk-container-id-2 div.sk-estimator:hover {background-color: #d4ebff;}#sk-container-id-2 div.sk-parallel-item::after {content: \"\";width: 100%;border-bottom: 1px solid gray;flex-grow: 1;}#sk-container-id-2 div.sk-label:hover label.sk-toggleable__label {background-color: #d4ebff;}#sk-container-id-2 div.sk-serial::before {content: \"\";position: absolute;border-left: 1px solid gray;box-sizing: border-box;top: 0;bottom: 0;left: 50%;z-index: 0;}#sk-container-id-2 div.sk-serial {display: flex;flex-direction: column;align-items: center;background-color: white;padding-right: 0.2em;padding-left: 0.2em;position: relative;}#sk-container-id-2 div.sk-item {position: relative;z-index: 1;}#sk-container-id-2 div.sk-parallel {display: flex;align-items: stretch;justify-content: center;background-color: white;position: relative;}#sk-container-id-2 div.sk-item::before, #sk-container-id-2 div.sk-parallel-item::before {content: \"\";position: absolute;border-left: 1px solid gray;box-sizing: border-box;top: 0;bottom: 0;left: 50%;z-index: -1;}#sk-container-id-2 div.sk-parallel-item {display: flex;flex-direction: column;z-index: 1;position: relative;background-color: white;}#sk-container-id-2 div.sk-parallel-item:first-child::after {align-self: flex-end;width: 50%;}#sk-container-id-2 div.sk-parallel-item:last-child::after {align-self: flex-start;width: 50%;}#sk-container-id-2 div.sk-parallel-item:only-child::after {width: 0;}#sk-container-id-2 div.sk-dashed-wrapped {border: 1px dashed gray;margin: 0 0.4em 0.5em 0.4em;box-sizing: border-box;padding-bottom: 0.4em;background-color: white;}#sk-container-id-2 div.sk-label label {font-family: monospace;font-weight: bold;display: inline-block;line-height: 1.2em;}#sk-container-id-2 div.sk-label-container {text-align: center;}#sk-container-id-2 div.sk-container {/* jupyter's `normalize.less` sets `[hidden] { display: none; }` but bootstrap.min.css set `[hidden] { display: none !important; }` so we also need the `!important` here to be able to override the default hidden behavior on the sphinx rendered scikit-learn.org. See: https://github.com/scikit-learn/scikit-learn/issues/21755 */display: inline-block !important;position: relative;}#sk-container-id-2 div.sk-text-repr-fallback {display: none;}</style><div id=\"sk-container-id-2\" class=\"sk-top-container\"><div class=\"sk-text-repr-fallback\"><pre>MinMaxScaler()</pre><b>In a Jupyter environment, please rerun this cell to show the HTML representation or trust the notebook. <br />On GitHub, the HTML representation is unable to render, please try loading this page with nbviewer.org.</b></div><div class=\"sk-container\" hidden><div class=\"sk-item\"><div class=\"sk-estimator sk-toggleable\"><input class=\"sk-toggleable__control sk-hidden--visually\" id=\"sk-estimator-id-2\" type=\"checkbox\" checked><label for=\"sk-estimator-id-2\" class=\"sk-toggleable__label sk-toggleable__label-arrow\">MinMaxScaler</label><div class=\"sk-toggleable__content\"><pre>MinMaxScaler()</pre></div></div></div></div></div>"
      ],
      "text/plain": [
       "MinMaxScaler()"
      ]
     },
     "execution_count": 75,
     "metadata": {},
     "output_type": "execute_result"
    }
   ],
   "source": [
    "scaler.fit(vsg_num)"
   ]
  },
  {
   "cell_type": "code",
   "execution_count": 76,
   "id": "8aa468e9",
   "metadata": {},
   "outputs": [
    {
     "data": {
      "text/html": [
       "<div>\n",
       "<style scoped>\n",
       "    .dataframe tbody tr th:only-of-type {\n",
       "        vertical-align: middle;\n",
       "    }\n",
       "\n",
       "    .dataframe tbody tr th {\n",
       "        vertical-align: top;\n",
       "    }\n",
       "\n",
       "    .dataframe thead th {\n",
       "        text-align: right;\n",
       "    }\n",
       "</style>\n",
       "<table border=\"1\" class=\"dataframe\">\n",
       "  <thead>\n",
       "    <tr style=\"text-align: right;\">\n",
       "      <th></th>\n",
       "      <th>0</th>\n",
       "      <th>1</th>\n",
       "    </tr>\n",
       "  </thead>\n",
       "  <tbody>\n",
       "    <tr>\n",
       "      <th>0</th>\n",
       "      <td>0.0</td>\n",
       "      <td>0.084577</td>\n",
       "    </tr>\n",
       "    <tr>\n",
       "      <th>1</th>\n",
       "      <td>0.0</td>\n",
       "      <td>0.019900</td>\n",
       "    </tr>\n",
       "    <tr>\n",
       "      <th>2</th>\n",
       "      <td>0.0</td>\n",
       "      <td>0.084577</td>\n",
       "    </tr>\n",
       "    <tr>\n",
       "      <th>3</th>\n",
       "      <td>0.0</td>\n",
       "      <td>0.019900</td>\n",
       "    </tr>\n",
       "    <tr>\n",
       "      <th>4</th>\n",
       "      <td>0.0</td>\n",
       "      <td>0.014925</td>\n",
       "    </tr>\n",
       "    <tr>\n",
       "      <th>...</th>\n",
       "      <td>...</td>\n",
       "      <td>...</td>\n",
       "    </tr>\n",
       "    <tr>\n",
       "      <th>180</th>\n",
       "      <td>1.0</td>\n",
       "      <td>0.000000</td>\n",
       "    </tr>\n",
       "    <tr>\n",
       "      <th>181</th>\n",
       "      <td>1.0</td>\n",
       "      <td>0.000000</td>\n",
       "    </tr>\n",
       "    <tr>\n",
       "      <th>182</th>\n",
       "      <td>1.0</td>\n",
       "      <td>0.000000</td>\n",
       "    </tr>\n",
       "    <tr>\n",
       "      <th>183</th>\n",
       "      <td>1.0</td>\n",
       "      <td>0.000000</td>\n",
       "    </tr>\n",
       "    <tr>\n",
       "      <th>184</th>\n",
       "      <td>1.0</td>\n",
       "      <td>0.004975</td>\n",
       "    </tr>\n",
       "  </tbody>\n",
       "</table>\n",
       "<p>185 rows × 2 columns</p>\n",
       "</div>"
      ],
      "text/plain": [
       "       0         1\n",
       "0    0.0  0.084577\n",
       "1    0.0  0.019900\n",
       "2    0.0  0.084577\n",
       "3    0.0  0.019900\n",
       "4    0.0  0.014925\n",
       "..   ...       ...\n",
       "180  1.0  0.000000\n",
       "181  1.0  0.000000\n",
       "182  1.0  0.000000\n",
       "183  1.0  0.000000\n",
       "184  1.0  0.004975\n",
       "\n",
       "[185 rows x 2 columns]"
      ]
     },
     "execution_count": 76,
     "metadata": {},
     "output_type": "execute_result"
    }
   ],
   "source": [
    "vsg_scaler = pd.DataFrame(scaler.transform(vsg_num))\n",
    "vsg_scaler"
   ]
  },
  {
   "cell_type": "markdown",
   "id": "c83a20b2",
   "metadata": {},
   "source": [
    "### oneD basic dataset"
   ]
  },
  {
   "cell_type": "code",
   "execution_count": null,
   "id": "4b9b071d",
   "metadata": {},
   "outputs": [],
   "source": [
    "oneD = pd.read_csv(\"oneD_practice.csv\")\n",
    "oneD"
   ]
  },
  {
   "cell_type": "code",
   "execution_count": null,
   "id": "2ab76593",
   "metadata": {},
   "outputs": [],
   "source": [
    "oneD_cols = oneD[oneD.columns[:1]]\n",
    "print(oneD_cols)\n",
    "oneD = oneD[oneD.columns[1:]]\n",
    "oneD"
   ]
  },
  {
   "cell_type": "code",
   "execution_count": null,
   "id": "fee7a727",
   "metadata": {},
   "outputs": [],
   "source": [
    "scaler.fit(oneD)"
   ]
  },
  {
   "cell_type": "code",
   "execution_count": null,
   "id": "19fd19d2",
   "metadata": {},
   "outputs": [],
   "source": [
    "oneD_scaler = pd.DataFrame(scaler.transform(oneD))\n",
    "oneD_scaler"
   ]
  },
  {
   "cell_type": "markdown",
   "id": "e6e846f0",
   "metadata": {},
   "source": [
    "### TwoD basic dataset"
   ]
  },
  {
   "cell_type": "code",
   "execution_count": null,
   "id": "f71dd5f6",
   "metadata": {},
   "outputs": [],
   "source": [
    "twoD = pd.read_csv(\"twoD_practice.csv\")\n",
    "twoD"
   ]
  },
  {
   "cell_type": "code",
   "execution_count": null,
   "id": "904699ce",
   "metadata": {},
   "outputs": [],
   "source": [
    "twoD_cols = twoD[twoD.columns[:1]]\n",
    "print(twoD_cols)\n",
    "twoD = twoD[twoD.columns[1:]]\n",
    "twoD"
   ]
  },
  {
   "cell_type": "code",
   "execution_count": null,
   "id": "d46d4bf5",
   "metadata": {},
   "outputs": [],
   "source": [
    "scaler.fit(twoD)"
   ]
  },
  {
   "cell_type": "code",
   "execution_count": null,
   "id": "e7c7b268",
   "metadata": {},
   "outputs": [],
   "source": [
    "twoD_scaler = pd.DataFrame(scaler.transform(twoD))\n",
    "twoD_scaler"
   ]
  },
  {
   "cell_type": "markdown",
   "id": "7f2a38f5",
   "metadata": {},
   "source": [
    "### ThereD basic dataset"
   ]
  },
  {
   "cell_type": "code",
   "execution_count": null,
   "id": "781eaaeb",
   "metadata": {},
   "outputs": [],
   "source": [
    "thereD = pd.read_csv(\"thereD_practice.csv\")\n",
    "thereD"
   ]
  },
  {
   "cell_type": "code",
   "execution_count": null,
   "id": "a066a27b",
   "metadata": {},
   "outputs": [],
   "source": [
    "thereD_cols = thereD[thereD.columns[:1]]\n",
    "thereD_cols"
   ]
  },
  {
   "cell_type": "code",
   "execution_count": null,
   "id": "9306566b",
   "metadata": {},
   "outputs": [],
   "source": [
    "thereD = thereD[thereD.columns[1:]]\n",
    "thereD"
   ]
  },
  {
   "cell_type": "code",
   "execution_count": null,
   "id": "698f99be",
   "metadata": {},
   "outputs": [],
   "source": [
    "scaler.fit(thereD)"
   ]
  },
  {
   "cell_type": "code",
   "execution_count": null,
   "id": "74a3f7bc",
   "metadata": {},
   "outputs": [],
   "source": [
    "thereD_scaler = pd.DataFrame(scaler.transform(thereD))\n",
    "thereD_scaler"
   ]
  },
  {
   "cell_type": "code",
   "execution_count": null,
   "id": "8f9d4335",
   "metadata": {},
   "outputs": [],
   "source": []
  },
  {
   "cell_type": "markdown",
   "id": "03e57425",
   "metadata": {},
   "source": [
    "### nD basic dataset"
   ]
  },
  {
   "cell_type": "code",
   "execution_count": null,
   "id": "c1fc6f93",
   "metadata": {},
   "outputs": [],
   "source": [
    "nD = pd.read_csv(\"nD_practice.csv\")\n",
    "nD"
   ]
  },
  {
   "cell_type": "code",
   "execution_count": null,
   "id": "b7453b55",
   "metadata": {},
   "outputs": [],
   "source": [
    "scaler.fit(nD)"
   ]
  },
  {
   "cell_type": "code",
   "execution_count": null,
   "id": "3d6117fd",
   "metadata": {},
   "outputs": [],
   "source": [
    "nD_scaler = pd.DataFrame(scaler.transform(nD))\n",
    "nD_scaler"
   ]
  },
  {
   "cell_type": "markdown",
   "id": "1d2177cc",
   "metadata": {},
   "source": [
    "## K-means My Implantation "
   ]
  },
  {
   "cell_type": "markdown",
   "id": "fce6f57a",
   "metadata": {},
   "source": [
    "### Initialize dataset"
   ]
  },
  {
   "cell_type": "code",
   "execution_count": null,
   "id": "409e3a8a",
   "metadata": {},
   "outputs": [],
   "source": [
    "# dataset = pd.DataFrame(np.array([3,20,10,2,30,11,12,4,25]))\n",
    "# dataset"
   ]
  },
  {
   "cell_type": "code",
   "execution_count": 77,
   "id": "a492ba5d",
   "metadata": {},
   "outputs": [
    {
     "data": {
      "text/html": [
       "<div>\n",
       "<style scoped>\n",
       "    .dataframe tbody tr th:only-of-type {\n",
       "        vertical-align: middle;\n",
       "    }\n",
       "\n",
       "    .dataframe tbody tr th {\n",
       "        vertical-align: top;\n",
       "    }\n",
       "\n",
       "    .dataframe thead th {\n",
       "        text-align: right;\n",
       "    }\n",
       "</style>\n",
       "<table border=\"1\" class=\"dataframe\">\n",
       "  <thead>\n",
       "    <tr style=\"text-align: right;\">\n",
       "      <th></th>\n",
       "      <th>0</th>\n",
       "      <th>1</th>\n",
       "    </tr>\n",
       "  </thead>\n",
       "  <tbody>\n",
       "    <tr>\n",
       "      <th>0</th>\n",
       "      <td>0.0</td>\n",
       "      <td>0.084577</td>\n",
       "    </tr>\n",
       "    <tr>\n",
       "      <th>1</th>\n",
       "      <td>0.0</td>\n",
       "      <td>0.019900</td>\n",
       "    </tr>\n",
       "    <tr>\n",
       "      <th>2</th>\n",
       "      <td>0.0</td>\n",
       "      <td>0.084577</td>\n",
       "    </tr>\n",
       "    <tr>\n",
       "      <th>3</th>\n",
       "      <td>0.0</td>\n",
       "      <td>0.019900</td>\n",
       "    </tr>\n",
       "    <tr>\n",
       "      <th>4</th>\n",
       "      <td>0.0</td>\n",
       "      <td>0.014925</td>\n",
       "    </tr>\n",
       "    <tr>\n",
       "      <th>...</th>\n",
       "      <td>...</td>\n",
       "      <td>...</td>\n",
       "    </tr>\n",
       "    <tr>\n",
       "      <th>180</th>\n",
       "      <td>1.0</td>\n",
       "      <td>0.000000</td>\n",
       "    </tr>\n",
       "    <tr>\n",
       "      <th>181</th>\n",
       "      <td>1.0</td>\n",
       "      <td>0.000000</td>\n",
       "    </tr>\n",
       "    <tr>\n",
       "      <th>182</th>\n",
       "      <td>1.0</td>\n",
       "      <td>0.000000</td>\n",
       "    </tr>\n",
       "    <tr>\n",
       "      <th>183</th>\n",
       "      <td>1.0</td>\n",
       "      <td>0.000000</td>\n",
       "    </tr>\n",
       "    <tr>\n",
       "      <th>184</th>\n",
       "      <td>1.0</td>\n",
       "      <td>0.004975</td>\n",
       "    </tr>\n",
       "  </tbody>\n",
       "</table>\n",
       "<p>185 rows × 2 columns</p>\n",
       "</div>"
      ],
      "text/plain": [
       "       0         1\n",
       "0    0.0  0.084577\n",
       "1    0.0  0.019900\n",
       "2    0.0  0.084577\n",
       "3    0.0  0.019900\n",
       "4    0.0  0.014925\n",
       "..   ...       ...\n",
       "180  1.0  0.000000\n",
       "181  1.0  0.000000\n",
       "182  1.0  0.000000\n",
       "183  1.0  0.000000\n",
       "184  1.0  0.004975\n",
       "\n",
       "[185 rows x 2 columns]"
      ]
     },
     "execution_count": 77,
     "metadata": {},
     "output_type": "execute_result"
    }
   ],
   "source": [
    "dataset = vsg_scaler\n",
    "#cols = oneD_cols\n",
    "\n",
    "dataset"
   ]
  },
  {
   "cell_type": "code",
   "execution_count": 78,
   "id": "4fcb8a33",
   "metadata": {},
   "outputs": [
    {
     "data": {
      "image/png": "[encoded data removed]",
      "text/plain": [
       "<Figure size 640x480 with 1 Axes>"
      ]
     },
     "metadata": {},
     "output_type": "display_data"
    }
   ],
   "source": [
    "plt.scatter(dataset[0], dataset[1])   #,s= dataset[2]*500)\n",
    "plt.xlabel(\"Year\")\n",
    "plt.ylabel(\"EU Sales\")\n",
    "plt.xticks([0,1],[np.min(vsg_num['Year']), np.max(vsg_num['Year'])])\n",
    "plt.yticks([0,1],[np.min(vsg_num['EU_Sales']), np.max(vsg_num['EU_Sales'])])\n",
    "plt.show()"
   ]
  },
  {
   "cell_type": "markdown",
   "id": "a4f22ca4",
   "metadata": {},
   "source": [
    "### Methods"
   ]
  },
  {
   "cell_type": "markdown",
   "id": "2a40bcd9",
   "metadata": {},
   "source": [
    "#### Clustering"
   ]
  },
  {
   "cell_type": "code",
   "execution_count": 56,
   "id": "92ac161e",
   "metadata": {},
   "outputs": [],
   "source": [
    "def distance_element_to_array_with_mean(dataset,mean):\n",
    "    dist = np.array([])\n",
    "    for items in dataset.index:\n",
    "        dist = np.append(dist,distance_two_elements(dataset.loc[items],mean))\n",
    "    return dist"
   ]
  },
  {
   "cell_type": "code",
   "execution_count": 57,
   "id": "11fc1ccd",
   "metadata": {},
   "outputs": [],
   "source": [
    "def distance_element_to_array(dataset,dataset_i,elm):\n",
    "    dist = np.array([])\n",
    "    for items in dataset_i:\n",
    "        dist = np.append(dist,distance_two_elements(dataset.iloc[items],elm))\n",
    "    return dist"
   ]
  },
  {
   "cell_type": "code",
   "execution_count": 58,
   "id": "e41ecd6b",
   "metadata": {},
   "outputs": [],
   "source": [
    "def distance_two_elements(point_1,point_2):\n",
    "    return np.linalg.norm(point_1 - point_2)"
   ]
  },
  {
   "cell_type": "code",
   "execution_count": 59,
   "id": "e2c22757",
   "metadata": {},
   "outputs": [],
   "source": [
    "def k_select(dataset,k):\n",
    "    centers_indexes = np.array(random.sample(range(dataset.index[0],dataset.index[-1] + 1),k))\n",
    "\n",
    "    centers_indexes.sort()\n",
    "    return centers_indexes"
   ]
  },
  {
   "cell_type": "code",
   "execution_count": 60,
   "id": "30186d7b",
   "metadata": {},
   "outputs": [],
   "source": [
    "def in_group(num,lists):\n",
    "    for i,n in enumerate(lists):\n",
    "        if num == n:\n",
    "            return i"
   ]
  },
  {
   "cell_type": "code",
   "execution_count": 61,
   "id": "beeaf05e",
   "metadata": {},
   "outputs": [],
   "source": [
    "def grouping(dataset,centers):\n",
    "    groups = np.array([])\n",
    "    for elm in dataset.index:\n",
    "        elm_center_distances = distance_element_to_array(dataset,centers,dataset.iloc[elm])\n",
    "        near_distance = np.min(elm_center_distances)\n",
    "        near_distance_i = in_group(near_distance,elm_center_distances)\n",
    "        groups = np.append(groups,near_distance_i)\n",
    "    return groups"
   ]
  },
  {
   "cell_type": "code",
   "execution_count": 62,
   "id": "1fb9b273",
   "metadata": {},
   "outputs": [],
   "source": [
    "def calculate_means_groups(dataset,centers,groups):\n",
    "    ef = 0\n",
    "    far_distance = -1\n",
    "    far_distance_i = -1\n",
    "    \n",
    "    for count_groups in range(len(centers)):\n",
    "        temp_df_gp = dataset.iloc[np.where(groups==count_groups)]\n",
    "        mean_gp = np.mean(temp_df_gp)\n",
    "        distance_items_with_mean = distance_element_to_array_with_mean(temp_df_gp,mean_gp)\n",
    "        \n",
    "        ef += np.sum(distance_items_with_mean)\n",
    "        temp_max = np.max(distance_items_with_mean)\n",
    "        \n",
    "        if far_distance == -1 or far_distance < temp_max:\n",
    "            far_distance = temp_max\n",
    "            far_distance_i = temp_df_gp.iloc[in_group(temp_max,distance_items_with_mean)].name\n",
    "            \n",
    "    return ef,far_distance,far_distance_i"
   ]
  },
  {
   "cell_type": "code",
   "execution_count": 63,
   "id": "d99fa640",
   "metadata": {},
   "outputs": [],
   "source": [
    "def change_group(dataset,centers,groups,distance_own_group,change_item_i):\n",
    "    for count_groups in range(len(centers)):\n",
    "        if int(groups[change_item_i]) != count_groups:\n",
    "            temp_df_gp = dataset.iloc[np.where(groups==count_groups)]\n",
    "            temp_df_with_new_elm = temp_df_gp.copy()\n",
    "            temp_df_with_new_elm.loc[len(temp_df_with_new_elm)] = dataset.iloc[change_item_i]\n",
    "            mean_gp = np.mean(temp_df_with_new_elm)\n",
    "            \n",
    "\n",
    "            distance_with_other_group = distance_two_elements(dataset.iloc[change_item_i],mean_gp)\n",
    "            \n",
    "            #print(f\"i-{change_item_i} is g-{groups[change_item_i]} and g-{count_groups} : {distance_with_other_group} ? {distance_own_group}\")\n",
    "            \n",
    "            if distance_with_other_group < distance_own_group:\n",
    "                groups[change_item_i] = count_groups\n",
    "                return groups\n",
    "    return groups"
   ]
  },
  {
   "cell_type": "markdown",
   "id": "96a79e32",
   "metadata": {},
   "source": [
    "#### Optimal k"
   ]
  },
  {
   "cell_type": "code",
   "execution_count": 64,
   "id": "a2fe79b4",
   "metadata": {},
   "outputs": [],
   "source": [
    "def distance_with_own_cluster(dataset,centers,groups,elm_i):\n",
    "    temp_df_gp = dataset.iloc[np.where(groups==groups[elm_i])]\n",
    "    counter = 0\n",
    "    sum_distance = 0\n",
    "    for index in temp_df_gp.index:\n",
    "        if elm_i == index:\n",
    "            continue\n",
    "        sum_distance += distance_two_elements(dataset.iloc[elm_i],temp_df_gp.loc[index])\n",
    "        counter += 1\n",
    "    if counter == 0:\n",
    "        return 1\n",
    "    return sum_distance/counter"
   ]
  },
  {
   "cell_type": "code",
   "execution_count": 65,
   "id": "936372b1",
   "metadata": {},
   "outputs": [],
   "source": [
    "def distance_with_other_cluster(dataset,centers,groups,elm_i):\n",
    "    distance_with_other = np.array([])\n",
    "    for count_groups in range(len(centers)):\n",
    "        if count_groups == groups[elm_i]:\n",
    "            continue\n",
    "        temp_df_gp = dataset.iloc[np.where(groups==count_groups)]\n",
    "        counter = 0\n",
    "        sum_distance = 0\n",
    "        for index in temp_df_gp.index:\n",
    "            sum_distance += distance_two_elements(dataset.iloc[elm_i],temp_df_gp.loc[index])\n",
    "            counter += 1\n",
    "        if counter != 0:\n",
    "            distance_with_other = np.append(distance_with_other,sum_distance/counter)\n",
    "    return np.min(distance_with_other)"
   ]
  },
  {
   "cell_type": "code",
   "execution_count": 66,
   "id": "52b495be",
   "metadata": {},
   "outputs": [],
   "source": [
    "def s_ai(dataset,centers,groups):\n",
    "    s_i = np.array([])\n",
    "    \n",
    "    for indx in dataset.index:\n",
    "        a_i = distance_with_own_cluster(dataset,centers,groups,indx)\n",
    "        b_i = distance_with_other_cluster(dataset,centers,groups,indx)\n",
    "        \n",
    "        s = (b_i - a_i)/np.max([a_i,b_i])\n",
    "        s_i = np.append(s_i,s)\n",
    "        \n",
    "        #print(f\"a-{indx} : {a_i}\\tb-{indx} : {b_i}\\ts-{indx} : {s}\")\n",
    "    \n",
    "    s_c = np.array([])\n",
    "    for count_groups in range(len(centers)):\n",
    "        temp_df_gp = dataset.iloc[np.where(groups==count_groups)]\n",
    "        sum_cluster = 0\n",
    "        counter_cluster = 0\n",
    "        for indx in temp_df_gp.index:\n",
    "            sum_cluster += s_i[indx]\n",
    "            counter_cluster += 1\n",
    "        s_c = np.append(s_c,sum_cluster/counter_cluster)\n",
    "        \n",
    "    #print(f\"best : {np.sum(s_c)/len(s_c)}\")   \n",
    "    return np.sum(s_c)/len(s_c)"
   ]
  },
  {
   "cell_type": "code",
   "execution_count": 67,
   "id": "10340304",
   "metadata": {},
   "outputs": [],
   "source": [
    "def choose_best_k(s_c):\n",
    "    return in_group(np.max(s_c),s_c)"
   ]
  },
  {
   "cell_type": "markdown",
   "id": "77396bb4",
   "metadata": {},
   "source": [
    "#### K means "
   ]
  },
  {
   "cell_type": "code",
   "execution_count": 68,
   "id": "73038765",
   "metadata": {},
   "outputs": [],
   "source": [
    "def k_means(dataset,centers,groups,step):\n",
    "    ef_optimal = None\n",
    "    groups_optimal = None\n",
    "    \n",
    "    steps = step\n",
    "    \n",
    "    #print(f\"dataset :\\n{dataset}\\n\")\n",
    "    \n",
    "    while steps:\n",
    "        ef,far_item,far_item_i = calculate_means_groups(dataset,centers,groups)\n",
    "\n",
    "        if ef_optimal == None or ef < ef_optimal:\n",
    "            ef_optimal = ef \n",
    "            groups_optimal = groups.copy()\n",
    "        \n",
    "        #print(f\"step {step - steps} :\\t {groups}\\t - Element to change is {far_item_i}\\t EF : {ef}\\n\")\n",
    "        \n",
    "        groups = change_group(dataset,centers,groups,far_item,far_item_i)\n",
    "\n",
    "        steps -= 1\n",
    "        \n",
    "    return ef_optimal,groups_optimal,groups"
   ]
  },
  {
   "cell_type": "markdown",
   "id": "2bc7d359",
   "metadata": {},
   "source": [
    "#### Main app"
   ]
  },
  {
   "cell_type": "code",
   "execution_count": 79,
   "id": "ea997888",
   "metadata": {},
   "outputs": [],
   "source": [
    "k = 2\n",
    "k_max = len(dataset) if 10 > len(dataset) else 10\n",
    "#k_max = 6\n",
    "\n",
    "ef_optimals = np.array([])\n",
    "s_c_optimals = np.array([])\n",
    "k_optimals = np.array([])\n",
    "\n",
    "while k_max >= k: \n",
    "    centers = k_select(dataset,k)\n",
    "    groups = grouping(dataset,centers)\n",
    "    \n",
    "    #print(\"centers :\",centers,\"\\nk :\",k)\n",
    "\n",
    "    ef_optimal,groups_optimal,groups = k_means(dataset,centers,groups,step=10)\n",
    "    \n",
    "    #print(\"\\ngroups :\",groups)\n",
    "    \n",
    "    k_optimals = np.append(k_optimals,k)\n",
    "    s_c_optimals = np.append(s_c_optimals,s_ai(dataset,centers,groups))\n",
    "    ef_optimals = np.append(ef_optimals,ef_optimal)\n",
    "    k += 1"
   ]
  },
  {
   "cell_type": "code",
   "execution_count": null,
   "id": "447ce78a",
   "metadata": {},
   "outputs": [],
   "source": [
    "k = k_optimals[choose_best_k(s_c_optimals)]\n",
    "print(\"Best K is :\",k_optimals)\n",
    "print(\"\\nBest S_C is :\",s_c_optimals)\n",
    "\n",
    "print(\"Best K is :\",k)\n",
    "print(\"\\nBest S_C is :\",s_c_optimals[choose_best_k(s_c_optimals)])\n",
    "\n",
    "centers = k_select(dataset,int(3))\n",
    "groups = grouping(dataset,centers)\n",
    "temp = k_means(dataset,centers,groups,step=10)\n",
    "\n",
    "print(\"\\nBest Group is :\",temp[2])\n",
    "print(\"\\nBest EF is :\",ef_optimals[choose_best_k(s_c_optimals)])"
   ]
  },
  {
   "cell_type": "code",
   "execution_count": 80,
   "id": "75fab45d",
   "metadata": {},
   "outputs": [
    {
     "data": {
      "image/png": "[encoded data removed]",
      "text/plain": [
       "<Figure size 640x480 with 1 Axes>"
      ]
     },
     "metadata": {},
     "output_type": "display_data"
    }
   ],
   "source": [
    "for count_groups in range(len(centers)):\n",
    "    temp_df_gp = dataset.iloc[np.where(groups==count_groups)]\n",
    "    plt.scatter(temp_df_gp[0], temp_df_gp[1])#,s= temp_df_gp[2]*500)\n",
    "plt.xlabel(\"Year\")\n",
    "plt.ylabel(\"EU Sales\")\n",
    "plt.xticks([0,1],[np.min(vsg_num['Year']), np.max(vsg_num['Year'])])\n",
    "plt.yticks([0,1],[np.min(vsg_num['EU_Sales']), np.max(vsg_num['EU_Sales'])])\n",
    "plt.show()"
   ]
  },
  {
   "cell_type": "markdown",
   "id": "56ebbee5",
   "metadata": {},
   "source": [
    "## K-means Real Implantation"
   ]
  },
  {
   "cell_type": "code",
   "execution_count": null,
   "id": "2ea83753",
   "metadata": {},
   "outputs": [],
   "source": [
    "#!pip install -U scikit-learn"
   ]
  },
  {
   "cell_type": "code",
   "execution_count": null,
   "id": "f96dff17",
   "metadata": {},
   "outputs": [],
   "source": [
    "from sklearn.cluster import KMeans"
   ]
  },
  {
   "cell_type": "code",
   "execution_count": null,
   "id": "d2b856d7",
   "metadata": {},
   "outputs": [],
   "source": [
    "datasetnp = dataset.to_numpy()\n"
   ]
  },
  {
   "cell_type": "code",
   "execution_count": null,
   "id": "db55b3c7",
   "metadata": {},
   "outputs": [],
   "source": [
    "Sum_of_squared_distances = []\n",
    "K = range(1,15)\n",
    "for k in K:\n",
    "    kmeans = KMeans(n_clusters=k,random_state=0, n_init=\"auto\")\n",
    "    kmeans = kmeans.fit(datasetnp)\n",
    "    Sum_of_squared_distances.append(kmeans.inertia_)"
   ]
  },
  {
   "cell_type": "code",
   "execution_count": null,
   "id": "b47b25af",
   "metadata": {},
   "outputs": [],
   "source": [
    "kmeans.labels_"
   ]
  },
  {
   "cell_type": "code",
   "execution_count": null,
   "id": "891570a3",
   "metadata": {},
   "outputs": [],
   "source": [
    "Sum_of_squared_distances"
   ]
  },
  {
   "cell_type": "code",
   "execution_count": null,
   "id": "4117e457",
   "metadata": {},
   "outputs": [],
   "source": [
    "plt.plot(K, Sum_of_squared_distances, 'bx-')\n",
    "plt.xlabel('k')\n",
    "plt.ylabel('Sum_of_squared_distances')\n",
    "plt.title('Elbow Method For Optimal k')\n",
    "plt.show()"
   ]
  },
  {
   "cell_type": "code",
   "execution_count": null,
   "id": "65a0bc1b",
   "metadata": {},
   "outputs": [],
   "source": [
    "#np.where(kmeans.labels_==0)\n",
    "kmeans.inertia_"
   ]
  }
 ],
 "metadata": {
  "kernelspec": {
   "display_name": "Python 3 (ipykernel)",
   "language": "python",
   "name": "python3"
  },
  "language_info": {
   "codemirror_mode": {
    "name": "ipython",
    "version": 3
   },
   "file_extension": ".py",
   "mimetype": "text/x-python",
   "name": "python",
   "nbconvert_exporter": "python",
   "pygments_lexer": "ipython3",
   "version": "3.10.9"
  }
 },
 "nbformat": 4,
 "nbformat_minor": 5
}
